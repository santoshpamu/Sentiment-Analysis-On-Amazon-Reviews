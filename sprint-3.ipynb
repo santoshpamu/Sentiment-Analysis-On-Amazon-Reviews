{
 "cells": [
  {
   "cell_type": "markdown",
   "id": "f1147b98",
   "metadata": {},
   "source": [
    "# SPRINT-3:"
   ]
  },
  {
   "cell_type": "code",
   "execution_count": 5,
   "id": "166efc3e",
   "metadata": {},
   "outputs": [],
   "source": [
    "import numpy as np\n",
    "import pandas as pd\n",
    "\n",
    "from wordcloud import WordCloud\n",
    "\n",
    "import warnings\n",
    "warnings.filterwarnings('ignore')\n",
    "\n"
   ]
  },
  {
   "cell_type": "markdown",
   "id": "8ecaeba5",
   "metadata": {},
   "source": [
    "# Build a model which takes the text review as input and predicts the rating of the review:"
   ]
  },
  {
   "cell_type": "code",
   "execution_count": 6,
   "id": "9af8f929",
   "metadata": {},
   "outputs": [],
   "source": [
    "df = pd.read_csv(r\"Sentiment_Analysis_1.csv\")"
   ]
  },
  {
   "cell_type": "code",
   "execution_count": 7,
   "id": "d235c8af",
   "metadata": {},
   "outputs": [
    {
     "data": {
      "text/html": [
       "<div>\n",
       "<style scoped>\n",
       "    .dataframe tbody tr th:only-of-type {\n",
       "        vertical-align: middle;\n",
       "    }\n",
       "\n",
       "    .dataframe tbody tr th {\n",
       "        vertical-align: top;\n",
       "    }\n",
       "\n",
       "    .dataframe thead th {\n",
       "        text-align: right;\n",
       "    }\n",
       "</style>\n",
       "<table border=\"1\" class=\"dataframe\">\n",
       "  <thead>\n",
       "    <tr style=\"text-align: right;\">\n",
       "      <th></th>\n",
       "      <th>Product_Id</th>\n",
       "      <th>User_Id</th>\n",
       "      <th>Profile_Name</th>\n",
       "      <th>Helpfulness_Numerator</th>\n",
       "      <th>Helpfulness_Denominator</th>\n",
       "      <th>Score</th>\n",
       "      <th>Time</th>\n",
       "      <th>Review_Summary</th>\n",
       "      <th>Review_Text</th>\n",
       "      <th>Helpfulness</th>\n",
       "      <th>sentiment</th>\n",
       "      <th>word_count</th>\n",
       "    </tr>\n",
       "  </thead>\n",
       "  <tbody>\n",
       "    <tr>\n",
       "      <th>0</th>\n",
       "      <td>B00813GRG4</td>\n",
       "      <td>A1D87F6ZCVE5NK</td>\n",
       "      <td>dll pa</td>\n",
       "      <td>0</td>\n",
       "      <td>0</td>\n",
       "      <td>1</td>\n",
       "      <td>1346976000</td>\n",
       "      <td>Not as Advertised</td>\n",
       "      <td>Product arrived labeled as Jumbo Salted Peanu...</td>\n",
       "      <td>useless</td>\n",
       "      <td>negative</td>\n",
       "      <td>31</td>\n",
       "    </tr>\n",
       "    <tr>\n",
       "      <th>1</th>\n",
       "      <td>B000LQOCH0</td>\n",
       "      <td>ABXLMWJIXXAIN</td>\n",
       "      <td>Natalia Corres \"Natalia Corres\"</td>\n",
       "      <td>1</td>\n",
       "      <td>1</td>\n",
       "      <td>4</td>\n",
       "      <td>1219017600</td>\n",
       "      <td>\"Delight\" says it all</td>\n",
       "      <td>This is a confection that has been around a f...</td>\n",
       "      <td>&gt;75%</td>\n",
       "      <td>positive</td>\n",
       "      <td>94</td>\n",
       "    </tr>\n",
       "    <tr>\n",
       "      <th>2</th>\n",
       "      <td>B000UA0QIQ</td>\n",
       "      <td>A395BORC6FGVXV</td>\n",
       "      <td>Karl</td>\n",
       "      <td>3</td>\n",
       "      <td>3</td>\n",
       "      <td>2</td>\n",
       "      <td>1307923200</td>\n",
       "      <td>Cough Medicine</td>\n",
       "      <td>If you are looking for the secret ingredient ...</td>\n",
       "      <td>&gt;75%</td>\n",
       "      <td>negative</td>\n",
       "      <td>41</td>\n",
       "    </tr>\n",
       "    <tr>\n",
       "      <th>3</th>\n",
       "      <td>B006K2ZZ7K</td>\n",
       "      <td>A1UQRSCLF8GW1T</td>\n",
       "      <td>Michael D. Bigham \"M. Wassir\"</td>\n",
       "      <td>0</td>\n",
       "      <td>0</td>\n",
       "      <td>5</td>\n",
       "      <td>1350777600</td>\n",
       "      <td>Great taffy</td>\n",
       "      <td>Great taffy at a great price.  There was a wi...</td>\n",
       "      <td>useless</td>\n",
       "      <td>positive</td>\n",
       "      <td>27</td>\n",
       "    </tr>\n",
       "    <tr>\n",
       "      <th>4</th>\n",
       "      <td>B006K2ZZ7K</td>\n",
       "      <td>ADT0SRK1MGOEU</td>\n",
       "      <td>Twoapennything</td>\n",
       "      <td>0</td>\n",
       "      <td>0</td>\n",
       "      <td>4</td>\n",
       "      <td>1342051200</td>\n",
       "      <td>Nice Taffy</td>\n",
       "      <td>I got a wild hair for taffy and ordered this ...</td>\n",
       "      <td>useless</td>\n",
       "      <td>positive</td>\n",
       "      <td>22</td>\n",
       "    </tr>\n",
       "  </tbody>\n",
       "</table>\n",
       "</div>"
      ],
      "text/plain": [
       "    Product_Id          User_Id                      Profile_Name  \\\n",
       "0   B00813GRG4   A1D87F6ZCVE5NK                            dll pa   \n",
       "1   B000LQOCH0    ABXLMWJIXXAIN   Natalia Corres \"Natalia Corres\"   \n",
       "2   B000UA0QIQ   A395BORC6FGVXV                              Karl   \n",
       "3   B006K2ZZ7K   A1UQRSCLF8GW1T     Michael D. Bigham \"M. Wassir\"   \n",
       "4   B006K2ZZ7K    ADT0SRK1MGOEU                    Twoapennything   \n",
       "\n",
       "   Helpfulness_Numerator  Helpfulness_Denominator  Score        Time  \\\n",
       "0                      0                        0      1  1346976000   \n",
       "1                      1                        1      4  1219017600   \n",
       "2                      3                        3      2  1307923200   \n",
       "3                      0                        0      5  1350777600   \n",
       "4                      0                        0      4  1342051200   \n",
       "\n",
       "           Review_Summary                                        Review_Text  \\\n",
       "0       Not as Advertised   Product arrived labeled as Jumbo Salted Peanu...   \n",
       "1   \"Delight\" says it all   This is a confection that has been around a f...   \n",
       "2          Cough Medicine   If you are looking for the secret ingredient ...   \n",
       "3             Great taffy   Great taffy at a great price.  There was a wi...   \n",
       "4              Nice Taffy   I got a wild hair for taffy and ordered this ...   \n",
       "\n",
       "  Helpfulness sentiment  word_count  \n",
       "0     useless  negative          31  \n",
       "1        >75%  positive          94  \n",
       "2        >75%  negative          41  \n",
       "3     useless  positive          27  \n",
       "4     useless  positive          22  "
      ]
     },
     "execution_count": 7,
     "metadata": {},
     "output_type": "execute_result"
    }
   ],
   "source": [
    "df.head()"
   ]
  },
  {
   "cell_type": "markdown",
   "id": "2f7723b4",
   "metadata": {},
   "source": [
    "# in our datset we are having time in different format,so we are changing our time here:"
   ]
  },
  {
   "cell_type": "code",
   "execution_count": 8,
   "id": "526b9865",
   "metadata": {},
   "outputs": [
    {
     "data": {
      "text/plain": [
       "'07-09-2012 05:30:00'"
      ]
     },
     "execution_count": 8,
     "metadata": {},
     "output_type": "execute_result"
    }
   ],
   "source": [
    "import datetime\n",
    "datetime.datetime.fromtimestamp(1346976000).strftime('%d-%m-%Y %H:%M:%S') #day,#month,#year,#hour,#minutes,#seconds\n"
   ]
  },
  {
   "cell_type": "code",
   "execution_count": 9,
   "id": "6c43d923",
   "metadata": {},
   "outputs": [],
   "source": [
    "df[\"Time\"] = df[\"Time\"].apply(lambda x : datetime.datetime.fromtimestamp(x).strftime('%d-%m-%Y %H:%M:%S'))"
   ]
  },
  {
   "cell_type": "code",
   "execution_count": 10,
   "id": "26b679bf",
   "metadata": {},
   "outputs": [
    {
     "data": {
      "text/plain": [
       "0         07-09-2012 05:30:00\n",
       "1         18-08-2008 05:30:00\n",
       "2         13-06-2011 05:30:00\n",
       "3         21-10-2012 05:30:00\n",
       "4         12-07-2012 05:30:00\n",
       "                 ...         \n",
       "568448    09-03-2011 05:30:00\n",
       "568449    09-03-2012 05:30:00\n",
       "568450    21-02-2012 05:30:00\n",
       "568451    13-03-2012 05:30:00\n",
       "568452    31-05-2012 05:30:00\n",
       "Name: Time, Length: 568453, dtype: object"
      ]
     },
     "execution_count": 10,
     "metadata": {},
     "output_type": "execute_result"
    }
   ],
   "source": [
    "df['Time']"
   ]
  },
  {
   "cell_type": "code",
   "execution_count": 11,
   "id": "33d82760",
   "metadata": {},
   "outputs": [],
   "source": [
    "df[\"Time\"] = pd.to_datetime(df[\"Time\"])"
   ]
  },
  {
   "cell_type": "code",
   "execution_count": 12,
   "id": "88bb9d3d",
   "metadata": {},
   "outputs": [],
   "source": [
    "#here we have created one new column (DATE) from time column:"
   ]
  },
  {
   "cell_type": "code",
   "execution_count": 13,
   "id": "49ce8196",
   "metadata": {},
   "outputs": [],
   "source": [
    "df[\"Date\"] = df[\"Time\"].apply(lambda x : x.date())"
   ]
  },
  {
   "cell_type": "code",
   "execution_count": 14,
   "id": "9bfb5edb",
   "metadata": {},
   "outputs": [],
   "source": [
    "df[\"Time\"] = df[\"Time\"].apply(lambda x : x.time())"
   ]
  },
  {
   "cell_type": "code",
   "execution_count": 15,
   "id": "54675474",
   "metadata": {
    "scrolled": true
   },
   "outputs": [
    {
     "data": {
      "text/html": [
       "<div>\n",
       "<style scoped>\n",
       "    .dataframe tbody tr th:only-of-type {\n",
       "        vertical-align: middle;\n",
       "    }\n",
       "\n",
       "    .dataframe tbody tr th {\n",
       "        vertical-align: top;\n",
       "    }\n",
       "\n",
       "    .dataframe thead th {\n",
       "        text-align: right;\n",
       "    }\n",
       "</style>\n",
       "<table border=\"1\" class=\"dataframe\">\n",
       "  <thead>\n",
       "    <tr style=\"text-align: right;\">\n",
       "      <th></th>\n",
       "      <th>Product_Id</th>\n",
       "      <th>User_Id</th>\n",
       "      <th>Profile_Name</th>\n",
       "      <th>Helpfulness_Numerator</th>\n",
       "      <th>Helpfulness_Denominator</th>\n",
       "      <th>Score</th>\n",
       "      <th>Time</th>\n",
       "      <th>Review_Summary</th>\n",
       "      <th>Review_Text</th>\n",
       "      <th>Helpfulness</th>\n",
       "      <th>sentiment</th>\n",
       "      <th>word_count</th>\n",
       "      <th>Date</th>\n",
       "    </tr>\n",
       "  </thead>\n",
       "  <tbody>\n",
       "    <tr>\n",
       "      <th>0</th>\n",
       "      <td>B00813GRG4</td>\n",
       "      <td>A1D87F6ZCVE5NK</td>\n",
       "      <td>dll pa</td>\n",
       "      <td>0</td>\n",
       "      <td>0</td>\n",
       "      <td>1</td>\n",
       "      <td>05:30:00</td>\n",
       "      <td>Not as Advertised</td>\n",
       "      <td>Product arrived labeled as Jumbo Salted Peanu...</td>\n",
       "      <td>useless</td>\n",
       "      <td>negative</td>\n",
       "      <td>31</td>\n",
       "      <td>2012-07-09</td>\n",
       "    </tr>\n",
       "    <tr>\n",
       "      <th>1</th>\n",
       "      <td>B000LQOCH0</td>\n",
       "      <td>ABXLMWJIXXAIN</td>\n",
       "      <td>Natalia Corres \"Natalia Corres\"</td>\n",
       "      <td>1</td>\n",
       "      <td>1</td>\n",
       "      <td>4</td>\n",
       "      <td>05:30:00</td>\n",
       "      <td>\"Delight\" says it all</td>\n",
       "      <td>This is a confection that has been around a f...</td>\n",
       "      <td>&gt;75%</td>\n",
       "      <td>positive</td>\n",
       "      <td>94</td>\n",
       "      <td>2008-08-18</td>\n",
       "    </tr>\n",
       "    <tr>\n",
       "      <th>2</th>\n",
       "      <td>B000UA0QIQ</td>\n",
       "      <td>A395BORC6FGVXV</td>\n",
       "      <td>Karl</td>\n",
       "      <td>3</td>\n",
       "      <td>3</td>\n",
       "      <td>2</td>\n",
       "      <td>05:30:00</td>\n",
       "      <td>Cough Medicine</td>\n",
       "      <td>If you are looking for the secret ingredient ...</td>\n",
       "      <td>&gt;75%</td>\n",
       "      <td>negative</td>\n",
       "      <td>41</td>\n",
       "      <td>2011-06-13</td>\n",
       "    </tr>\n",
       "    <tr>\n",
       "      <th>3</th>\n",
       "      <td>B006K2ZZ7K</td>\n",
       "      <td>A1UQRSCLF8GW1T</td>\n",
       "      <td>Michael D. Bigham \"M. Wassir\"</td>\n",
       "      <td>0</td>\n",
       "      <td>0</td>\n",
       "      <td>5</td>\n",
       "      <td>05:30:00</td>\n",
       "      <td>Great taffy</td>\n",
       "      <td>Great taffy at a great price.  There was a wi...</td>\n",
       "      <td>useless</td>\n",
       "      <td>positive</td>\n",
       "      <td>27</td>\n",
       "      <td>2012-10-21</td>\n",
       "    </tr>\n",
       "    <tr>\n",
       "      <th>4</th>\n",
       "      <td>B006K2ZZ7K</td>\n",
       "      <td>ADT0SRK1MGOEU</td>\n",
       "      <td>Twoapennything</td>\n",
       "      <td>0</td>\n",
       "      <td>0</td>\n",
       "      <td>4</td>\n",
       "      <td>05:30:00</td>\n",
       "      <td>Nice Taffy</td>\n",
       "      <td>I got a wild hair for taffy and ordered this ...</td>\n",
       "      <td>useless</td>\n",
       "      <td>positive</td>\n",
       "      <td>22</td>\n",
       "      <td>2012-12-07</td>\n",
       "    </tr>\n",
       "  </tbody>\n",
       "</table>\n",
       "</div>"
      ],
      "text/plain": [
       "    Product_Id          User_Id                      Profile_Name  \\\n",
       "0   B00813GRG4   A1D87F6ZCVE5NK                            dll pa   \n",
       "1   B000LQOCH0    ABXLMWJIXXAIN   Natalia Corres \"Natalia Corres\"   \n",
       "2   B000UA0QIQ   A395BORC6FGVXV                              Karl   \n",
       "3   B006K2ZZ7K   A1UQRSCLF8GW1T     Michael D. Bigham \"M. Wassir\"   \n",
       "4   B006K2ZZ7K    ADT0SRK1MGOEU                    Twoapennything   \n",
       "\n",
       "   Helpfulness_Numerator  Helpfulness_Denominator  Score      Time  \\\n",
       "0                      0                        0      1  05:30:00   \n",
       "1                      1                        1      4  05:30:00   \n",
       "2                      3                        3      2  05:30:00   \n",
       "3                      0                        0      5  05:30:00   \n",
       "4                      0                        0      4  05:30:00   \n",
       "\n",
       "           Review_Summary                                        Review_Text  \\\n",
       "0       Not as Advertised   Product arrived labeled as Jumbo Salted Peanu...   \n",
       "1   \"Delight\" says it all   This is a confection that has been around a f...   \n",
       "2          Cough Medicine   If you are looking for the secret ingredient ...   \n",
       "3             Great taffy   Great taffy at a great price.  There was a wi...   \n",
       "4              Nice Taffy   I got a wild hair for taffy and ordered this ...   \n",
       "\n",
       "  Helpfulness sentiment  word_count        Date  \n",
       "0     useless  negative          31  2012-07-09  \n",
       "1        >75%  positive          94  2008-08-18  \n",
       "2        >75%  negative          41  2011-06-13  \n",
       "3     useless  positive          27  2012-10-21  \n",
       "4     useless  positive          22  2012-12-07  "
      ]
     },
     "execution_count": 15,
     "metadata": {},
     "output_type": "execute_result"
    }
   ],
   "source": [
    "df.head()"
   ]
  },
  {
   "cell_type": "code",
   "execution_count": 16,
   "id": "fd54394d",
   "metadata": {},
   "outputs": [
    {
     "name": "stdout",
     "output_type": "stream",
     "text": [
      "<class 'pandas.core.frame.DataFrame'>\n",
      "RangeIndex: 568453 entries, 0 to 568452\n",
      "Data columns (total 13 columns):\n",
      " #   Column                   Non-Null Count   Dtype \n",
      "---  ------                   --------------   ----- \n",
      " 0   Product_Id               568453 non-null  object\n",
      " 1   User_Id                  568453 non-null  object\n",
      " 2   Profile_Name             568453 non-null  object\n",
      " 3   Helpfulness_Numerator    568453 non-null  int64 \n",
      " 4   Helpfulness_Denominator  568453 non-null  int64 \n",
      " 5   Score                    568453 non-null  int64 \n",
      " 6   Time                     568453 non-null  object\n",
      " 7   Review_Summary           568453 non-null  object\n",
      " 8   Review_Text              568453 non-null  object\n",
      " 9   Helpfulness              568453 non-null  object\n",
      " 10  sentiment                568453 non-null  object\n",
      " 11  word_count               568453 non-null  int64 \n",
      " 12  Date                     568453 non-null  object\n",
      "dtypes: int64(4), object(9)\n",
      "memory usage: 56.4+ MB\n"
     ]
    }
   ],
   "source": [
    "df.info()"
   ]
  },
  {
   "cell_type": "markdown",
   "id": "ae8e4240",
   "metadata": {},
   "source": [
    "# here we have taken only 3 columns for train and test cases:"
   ]
  },
  {
   "cell_type": "code",
   "execution_count": 47,
   "id": "4559c51b",
   "metadata": {},
   "outputs": [],
   "source": [
    "df = df[[\"Review_Summary\",\"Review_Text\",\"sentiment\"]]"
   ]
  },
  {
   "cell_type": "code",
   "execution_count": 48,
   "id": "059cccc8",
   "metadata": {},
   "outputs": [
    {
     "data": {
      "text/html": [
       "<div>\n",
       "<style scoped>\n",
       "    .dataframe tbody tr th:only-of-type {\n",
       "        vertical-align: middle;\n",
       "    }\n",
       "\n",
       "    .dataframe tbody tr th {\n",
       "        vertical-align: top;\n",
       "    }\n",
       "\n",
       "    .dataframe thead th {\n",
       "        text-align: right;\n",
       "    }\n",
       "</style>\n",
       "<table border=\"1\" class=\"dataframe\">\n",
       "  <thead>\n",
       "    <tr style=\"text-align: right;\">\n",
       "      <th></th>\n",
       "      <th>Review_Summary</th>\n",
       "      <th>Review_Text</th>\n",
       "      <th>sentiment</th>\n",
       "    </tr>\n",
       "  </thead>\n",
       "  <tbody>\n",
       "    <tr>\n",
       "      <th>0</th>\n",
       "      <td>Not as Advertised</td>\n",
       "      <td>Product arrived labeled as Jumbo Salted Peanu...</td>\n",
       "      <td>negative</td>\n",
       "    </tr>\n",
       "    <tr>\n",
       "      <th>1</th>\n",
       "      <td>\"Delight\" says it all</td>\n",
       "      <td>This is a confection that has been around a f...</td>\n",
       "      <td>positive</td>\n",
       "    </tr>\n",
       "    <tr>\n",
       "      <th>2</th>\n",
       "      <td>Cough Medicine</td>\n",
       "      <td>If you are looking for the secret ingredient ...</td>\n",
       "      <td>negative</td>\n",
       "    </tr>\n",
       "    <tr>\n",
       "      <th>3</th>\n",
       "      <td>Great taffy</td>\n",
       "      <td>Great taffy at a great price.  There was a wi...</td>\n",
       "      <td>positive</td>\n",
       "    </tr>\n",
       "    <tr>\n",
       "      <th>4</th>\n",
       "      <td>Nice Taffy</td>\n",
       "      <td>I got a wild hair for taffy and ordered this ...</td>\n",
       "      <td>positive</td>\n",
       "    </tr>\n",
       "  </tbody>\n",
       "</table>\n",
       "</div>"
      ],
      "text/plain": [
       "           Review_Summary                                        Review_Text  \\\n",
       "0       Not as Advertised   Product arrived labeled as Jumbo Salted Peanu...   \n",
       "1   \"Delight\" says it all   This is a confection that has been around a f...   \n",
       "2          Cough Medicine   If you are looking for the secret ingredient ...   \n",
       "3             Great taffy   Great taffy at a great price.  There was a wi...   \n",
       "4              Nice Taffy   I got a wild hair for taffy and ordered this ...   \n",
       "\n",
       "  sentiment  \n",
       "0  negative  \n",
       "1  positive  \n",
       "2  negative  \n",
       "3  positive  \n",
       "4  positive  "
      ]
     },
     "execution_count": 48,
     "metadata": {},
     "output_type": "execute_result"
    }
   ],
   "source": [
    "df.head()"
   ]
  },
  {
   "cell_type": "code",
   "execution_count": 100,
   "id": "5411b6ec",
   "metadata": {},
   "outputs": [],
   "source": [
    "y  = df[[\"sentiment\"]] #target variable\n",
    "\n",
    "X = df.drop([\"sentiment\"],axis = 1)  #input variable\n",
    "\n",
    "#in x train we have :\n",
    "\n",
    "# 1.Review_Summary and 2.Review_Text"
   ]
  },
  {
   "cell_type": "markdown",
   "id": "8174b340",
   "metadata": {},
   "source": [
    "# data preparation:"
   ]
  },
  {
   "cell_type": "code",
   "execution_count": 101,
   "id": "56324c8b",
   "metadata": {},
   "outputs": [],
   "source": [
    "from sklearn.model_selection import train_test_split\n",
    "\n",
    "X_train, X_test, y_train, y_test = train_test_split(X, y, test_size=0.2, random_state=52)"
   ]
  },
  {
   "cell_type": "markdown",
   "id": "87f69909",
   "metadata": {},
   "source": [
    "# for train case:"
   ]
  },
  {
   "cell_type": "code",
   "execution_count": 102,
   "id": "f0c1eedc",
   "metadata": {},
   "outputs": [
    {
     "data": {
      "text/html": [
       "<div>\n",
       "<style scoped>\n",
       "    .dataframe tbody tr th:only-of-type {\n",
       "        vertical-align: middle;\n",
       "    }\n",
       "\n",
       "    .dataframe tbody tr th {\n",
       "        vertical-align: top;\n",
       "    }\n",
       "\n",
       "    .dataframe thead th {\n",
       "        text-align: right;\n",
       "    }\n",
       "</style>\n",
       "<table border=\"1\" class=\"dataframe\">\n",
       "  <thead>\n",
       "    <tr style=\"text-align: right;\">\n",
       "      <th></th>\n",
       "      <th>Review_Summary</th>\n",
       "      <th>Review_Text</th>\n",
       "    </tr>\n",
       "  </thead>\n",
       "  <tbody>\n",
       "    <tr>\n",
       "      <th>45353</th>\n",
       "      <td>Yummy</td>\n",
       "      <td>Fabulous cookie.  Perfect size.  Love packagi...</td>\n",
       "    </tr>\n",
       "    <tr>\n",
       "      <th>47965</th>\n",
       "      <td>ZICO is easy to order and tasty to drink</td>\n",
       "      <td>My boyfriend loves this stuff and since we li...</td>\n",
       "    </tr>\n",
       "    <tr>\n",
       "      <th>561397</th>\n",
       "      <td>Good for you and great price!</td>\n",
       "      <td>I mix this organic protein powder in my smoot...</td>\n",
       "    </tr>\n",
       "    <tr>\n",
       "      <th>502256</th>\n",
       "      <td>Coffee just ok</td>\n",
       "      <td>Coffee does not taste as fresh as would have ...</td>\n",
       "    </tr>\n",
       "    <tr>\n",
       "      <th>63822</th>\n",
       "      <td>Enjoyable Lite Coffee</td>\n",
       "      <td>This is the one coffee you may have at any ti...</td>\n",
       "    </tr>\n",
       "  </tbody>\n",
       "</table>\n",
       "</div>"
      ],
      "text/plain": [
       "                                   Review_Summary  \\\n",
       "45353                                       Yummy   \n",
       "47965    ZICO is easy to order and tasty to drink   \n",
       "561397              Good for you and great price!   \n",
       "502256                             Coffee just ok   \n",
       "63822                       Enjoyable Lite Coffee   \n",
       "\n",
       "                                              Review_Text  \n",
       "45353    Fabulous cookie.  Perfect size.  Love packagi...  \n",
       "47965    My boyfriend loves this stuff and since we li...  \n",
       "561397   I mix this organic protein powder in my smoot...  \n",
       "502256   Coffee does not taste as fresh as would have ...  \n",
       "63822    This is the one coffee you may have at any ti...  "
      ]
     },
     "execution_count": 102,
     "metadata": {},
     "output_type": "execute_result"
    }
   ],
   "source": [
    "X_train.head()"
   ]
  },
  {
   "cell_type": "code",
   "execution_count": 103,
   "id": "0d7dcde7",
   "metadata": {},
   "outputs": [
    {
     "data": {
      "text/html": [
       "<div>\n",
       "<style scoped>\n",
       "    .dataframe tbody tr th:only-of-type {\n",
       "        vertical-align: middle;\n",
       "    }\n",
       "\n",
       "    .dataframe tbody tr th {\n",
       "        vertical-align: top;\n",
       "    }\n",
       "\n",
       "    .dataframe thead th {\n",
       "        text-align: right;\n",
       "    }\n",
       "</style>\n",
       "<table border=\"1\" class=\"dataframe\">\n",
       "  <thead>\n",
       "    <tr style=\"text-align: right;\">\n",
       "      <th></th>\n",
       "      <th>sentiment</th>\n",
       "    </tr>\n",
       "  </thead>\n",
       "  <tbody>\n",
       "    <tr>\n",
       "      <th>45353</th>\n",
       "      <td>positive</td>\n",
       "    </tr>\n",
       "    <tr>\n",
       "      <th>47965</th>\n",
       "      <td>positive</td>\n",
       "    </tr>\n",
       "    <tr>\n",
       "      <th>561397</th>\n",
       "      <td>positive</td>\n",
       "    </tr>\n",
       "    <tr>\n",
       "      <th>502256</th>\n",
       "      <td>negative</td>\n",
       "    </tr>\n",
       "    <tr>\n",
       "      <th>63822</th>\n",
       "      <td>positive</td>\n",
       "    </tr>\n",
       "  </tbody>\n",
       "</table>\n",
       "</div>"
      ],
      "text/plain": [
       "       sentiment\n",
       "45353   positive\n",
       "47965   positive\n",
       "561397  positive\n",
       "502256  negative\n",
       "63822   positive"
      ]
     },
     "execution_count": 103,
     "metadata": {},
     "output_type": "execute_result"
    }
   ],
   "source": [
    "y_train.head()"
   ]
  },
  {
   "cell_type": "code",
   "execution_count": 104,
   "id": "02ddc0a2",
   "metadata": {},
   "outputs": [
    {
     "data": {
      "text/plain": [
       "(454762, 2)"
      ]
     },
     "execution_count": 104,
     "metadata": {},
     "output_type": "execute_result"
    }
   ],
   "source": [
    "X_train.shape"
   ]
  },
  {
   "cell_type": "markdown",
   "id": "f8abe44d",
   "metadata": {},
   "source": [
    "# nltk:NATURAL LANGUAGE TOOLKIT:"
   ]
  },
  {
   "cell_type": "code",
   "execution_count": 54,
   "id": "de61a1d9",
   "metadata": {},
   "outputs": [
    {
     "name": "stdout",
     "output_type": "stream",
     "text": [
      "Requirement already satisfied: nltk in c:\\users\\dell\\anaconda3\\anaconda\\lib\\site-packages (3.6.5)\n",
      "Requirement already satisfied: click in c:\\users\\dell\\anaconda3\\anaconda\\lib\\site-packages (from nltk) (8.0.3)\n",
      "Requirement already satisfied: joblib in c:\\users\\dell\\anaconda3\\anaconda\\lib\\site-packages (from nltk) (1.1.0)\n",
      "Requirement already satisfied: regex>=2021.8.3 in c:\\users\\dell\\anaconda3\\anaconda\\lib\\site-packages (from nltk) (2021.8.3)\n",
      "Requirement already satisfied: tqdm in c:\\users\\dell\\anaconda3\\anaconda\\lib\\site-packages (from nltk) (4.62.3)\n",
      "Requirement already satisfied: colorama in c:\\users\\dell\\anaconda3\\anaconda\\lib\\site-packages (from click->nltk) (0.4.4)\n"
     ]
    }
   ],
   "source": [
    "!pip install nltk"
   ]
  },
  {
   "cell_type": "code",
   "execution_count": 55,
   "id": "df867d96",
   "metadata": {},
   "outputs": [],
   "source": [
    "import re\n",
    "import nltk\n",
    "from nltk.tokenize import word_tokenize\n",
    "from nltk.corpus import stopwords\n",
    "from nltk.stem.porter import PorterStemmer\n",
    "from nltk.stem import WordNetLemmatizer"
   ]
  },
  {
   "cell_type": "code",
   "execution_count": 56,
   "id": "caf67472",
   "metadata": {},
   "outputs": [
    {
     "name": "stderr",
     "output_type": "stream",
     "text": [
      "[nltk_data] Downloading package stopwords to\n",
      "[nltk_data]     C:\\Users\\dell\\AppData\\Roaming\\nltk_data...\n",
      "[nltk_data]   Package stopwords is already up-to-date!\n"
     ]
    },
    {
     "data": {
      "text/plain": [
       "True"
      ]
     },
     "execution_count": 56,
     "metadata": {},
     "output_type": "execute_result"
    }
   ],
   "source": [
    "nltk.download('stopwords')"
   ]
  },
  {
   "cell_type": "markdown",
   "id": "3206c922",
   "metadata": {},
   "source": [
    "# stemming:"
   ]
  },
  {
   "cell_type": "code",
   "execution_count": null,
   "id": "d842ed0d",
   "metadata": {},
   "outputs": [],
   "source": [
    "## initialise the inbuilt Stemmer\n",
    "\n",
    "stemmer = PorterStemmer()\n",
    "\n",
    "#Stemming is the process of reducing a word "
   ]
  },
  {
   "cell_type": "markdown",
   "id": "7f79f0b3",
   "metadata": {},
   "source": [
    "# lemmatizer:"
   ]
  },
  {
   "cell_type": "code",
   "execution_count": null,
   "id": "0981bfa0",
   "metadata": {},
   "outputs": [],
   "source": [
    "# # We can also use Lemmatizer instead of Stemmer\n",
    "\n",
    "lemmatizer = WordNetLemmatizer()\n",
    "\n",
    "\n",
    "#Lemmatization generally means to do the things properly with the use of vocabulary and morphological analysis of words. \n",
    "#In this process, the endings of the words are removed to return the base word, which is also known as Lemma."
   ]
  },
  {
   "cell_type": "markdown",
   "id": "6186d799",
   "metadata": {},
   "source": [
    "# code for preprocess the REVIEW_TEXT:"
   ]
  },
  {
   "cell_type": "code",
   "execution_count": 58,
   "id": "8f4e12b9",
   "metadata": {},
   "outputs": [],
   "source": [
    "def preprocess(Review_Text, flag):\n",
    " \n",
    "    #removing special characters & digit\n",
    "    words= re.sub(\"[^a-zA-Z]\",\" \",Review_Text)\n",
    "\n",
    "    #change sentence to lower case\n",
    "    words_lower = words.lower()\n",
    "\n",
    "    #tokenize into words\n",
    "    words_tokenize = words_lower.split()\n",
    "\n",
    "    #remove stopwords\n",
    "    words = [i for i in words_tokenize if not i in stopwords.words('english')]\n",
    "\n",
    "    #stemming/lemmatization\n",
    "    if(flag == 'lemma'):\n",
    "        words = [stemmer.stem(word) for word in words]\n",
    "    else:\n",
    "        words = [lemmatizer.lemmatize(word) for word in words]\n",
    "    \n",
    "    return pd.Series([\" \".join(words), len(words)])"
   ]
  },
  {
   "cell_type": "code",
   "execution_count": null,
   "id": "c06a0487",
   "metadata": {},
   "outputs": [],
   "source": []
  },
  {
   "cell_type": "code",
   "execution_count": 59,
   "id": "b17c67ae",
   "metadata": {},
   "outputs": [],
   "source": [
    "from tqdm import tqdm, tqdm_notebook\n",
    "\n",
    "tqdm.pandas()"
   ]
  },
  {
   "cell_type": "code",
   "execution_count": null,
   "id": "d3b1f1f8",
   "metadata": {},
   "outputs": [],
   "source": []
  },
  {
   "cell_type": "code",
   "execution_count": 105,
   "id": "349c9ab0",
   "metadata": {},
   "outputs": [
    {
     "data": {
      "text/html": [
       "<div>\n",
       "<style scoped>\n",
       "    .dataframe tbody tr th:only-of-type {\n",
       "        vertical-align: middle;\n",
       "    }\n",
       "\n",
       "    .dataframe tbody tr th {\n",
       "        vertical-align: top;\n",
       "    }\n",
       "\n",
       "    .dataframe thead th {\n",
       "        text-align: right;\n",
       "    }\n",
       "</style>\n",
       "<table border=\"1\" class=\"dataframe\">\n",
       "  <thead>\n",
       "    <tr style=\"text-align: right;\">\n",
       "      <th></th>\n",
       "      <th>Review_Summary</th>\n",
       "      <th>Review_Text</th>\n",
       "    </tr>\n",
       "  </thead>\n",
       "  <tbody>\n",
       "    <tr>\n",
       "      <th>45353</th>\n",
       "      <td>Yummy</td>\n",
       "      <td>Fabulous cookie.  Perfect size.  Love packagi...</td>\n",
       "    </tr>\n",
       "    <tr>\n",
       "      <th>47965</th>\n",
       "      <td>ZICO is easy to order and tasty to drink</td>\n",
       "      <td>My boyfriend loves this stuff and since we li...</td>\n",
       "    </tr>\n",
       "    <tr>\n",
       "      <th>561397</th>\n",
       "      <td>Good for you and great price!</td>\n",
       "      <td>I mix this organic protein powder in my smoot...</td>\n",
       "    </tr>\n",
       "    <tr>\n",
       "      <th>502256</th>\n",
       "      <td>Coffee just ok</td>\n",
       "      <td>Coffee does not taste as fresh as would have ...</td>\n",
       "    </tr>\n",
       "    <tr>\n",
       "      <th>63822</th>\n",
       "      <td>Enjoyable Lite Coffee</td>\n",
       "      <td>This is the one coffee you may have at any ti...</td>\n",
       "    </tr>\n",
       "  </tbody>\n",
       "</table>\n",
       "</div>"
      ],
      "text/plain": [
       "                                   Review_Summary  \\\n",
       "45353                                       Yummy   \n",
       "47965    ZICO is easy to order and tasty to drink   \n",
       "561397              Good for you and great price!   \n",
       "502256                             Coffee just ok   \n",
       "63822                       Enjoyable Lite Coffee   \n",
       "\n",
       "                                              Review_Text  \n",
       "45353    Fabulous cookie.  Perfect size.  Love packagi...  \n",
       "47965    My boyfriend loves this stuff and since we li...  \n",
       "561397   I mix this organic protein powder in my smoot...  \n",
       "502256   Coffee does not taste as fresh as would have ...  \n",
       "63822    This is the one coffee you may have at any ti...  "
      ]
     },
     "execution_count": 105,
     "metadata": {},
     "output_type": "execute_result"
    }
   ],
   "source": [
    "X_train.head()"
   ]
  },
  {
   "cell_type": "markdown",
   "id": "4204c3ff",
   "metadata": {},
   "source": [
    "# THIS IS FOR STEMMING:"
   ]
  },
  {
   "cell_type": "code",
   "execution_count": 64,
   "id": "3991081e",
   "metadata": {},
   "outputs": [],
   "source": [
    "#temp_df_lemma = X_train['Review_Text'].progress_apply(lambda x: preprocess(x, 'stem'))\n",
    "#temp_df_lemma.head()"
   ]
  },
  {
   "cell_type": "code",
   "execution_count": null,
   "id": "eb4c47c0",
   "metadata": {},
   "outputs": [],
   "source": []
  },
  {
   "cell_type": "code",
   "execution_count": null,
   "id": "049c1b9b",
   "metadata": {},
   "outputs": [],
   "source": []
  },
  {
   "cell_type": "code",
   "execution_count": null,
   "id": "dd7709e2",
   "metadata": {},
   "outputs": [],
   "source": []
  },
  {
   "cell_type": "markdown",
   "id": "ebf4a68c",
   "metadata": {},
   "source": [
    "# here we are lemmatizing the X_TRAIN DATA:"
   ]
  },
  {
   "cell_type": "code",
   "execution_count": 62,
   "id": "046b410b",
   "metadata": {},
   "outputs": [
    {
     "name": "stderr",
     "output_type": "stream",
     "text": [
      "100%|████████████████████████████████████████████████████████████████████████| 454762/454762 [2:40:18<00:00, 47.28it/s]\n"
     ]
    },
    {
     "data": {
      "text/html": [
       "<div>\n",
       "<style scoped>\n",
       "    .dataframe tbody tr th:only-of-type {\n",
       "        vertical-align: middle;\n",
       "    }\n",
       "\n",
       "    .dataframe tbody tr th {\n",
       "        vertical-align: top;\n",
       "    }\n",
       "\n",
       "    .dataframe thead th {\n",
       "        text-align: right;\n",
       "    }\n",
       "</style>\n",
       "<table border=\"1\" class=\"dataframe\">\n",
       "  <thead>\n",
       "    <tr style=\"text-align: right;\">\n",
       "      <th></th>\n",
       "      <th>0</th>\n",
       "      <th>1</th>\n",
       "    </tr>\n",
       "  </thead>\n",
       "  <tbody>\n",
       "    <tr>\n",
       "      <th>45353</th>\n",
       "      <td>fabul cooki perfect size love packag stale coo...</td>\n",
       "      <td>18</td>\n",
       "    </tr>\n",
       "    <tr>\n",
       "      <th>47965</th>\n",
       "      <td>boyfriend love stuff sinc live hour drive apar...</td>\n",
       "      <td>33</td>\n",
       "    </tr>\n",
       "    <tr>\n",
       "      <th>561397</th>\n",
       "      <td>mix organ protein powder smoothi add pancak ba...</td>\n",
       "      <td>29</td>\n",
       "    </tr>\n",
       "    <tr>\n",
       "      <th>502256</th>\n",
       "      <td>coffe tast fresh would expect price product re...</td>\n",
       "      <td>12</td>\n",
       "    </tr>\n",
       "    <tr>\n",
       "      <th>63822</th>\n",
       "      <td>one coffe may time day night caffein sensit me...</td>\n",
       "      <td>86</td>\n",
       "    </tr>\n",
       "  </tbody>\n",
       "</table>\n",
       "</div>"
      ],
      "text/plain": [
       "                                                        0   1\n",
       "45353   fabul cooki perfect size love packag stale coo...  18\n",
       "47965   boyfriend love stuff sinc live hour drive apar...  33\n",
       "561397  mix organ protein powder smoothi add pancak ba...  29\n",
       "502256  coffe tast fresh would expect price product re...  12\n",
       "63822   one coffe may time day night caffein sensit me...  86"
      ]
     },
     "execution_count": 62,
     "metadata": {},
     "output_type": "execute_result"
    }
   ],
   "source": [
    "temp_df_lemma = X_train['Review_Text'].progress_apply(lambda x: preprocess(x, 'lemma'))\n",
    "temp_df_lemma.head()"
   ]
  },
  {
   "cell_type": "code",
   "execution_count": null,
   "id": "8447da8b",
   "metadata": {},
   "outputs": [],
   "source": []
  },
  {
   "cell_type": "code",
   "execution_count": 65,
   "id": "61687bfe",
   "metadata": {},
   "outputs": [
    {
     "data": {
      "text/html": [
       "<div>\n",
       "<style scoped>\n",
       "    .dataframe tbody tr th:only-of-type {\n",
       "        vertical-align: middle;\n",
       "    }\n",
       "\n",
       "    .dataframe tbody tr th {\n",
       "        vertical-align: top;\n",
       "    }\n",
       "\n",
       "    .dataframe thead th {\n",
       "        text-align: right;\n",
       "    }\n",
       "</style>\n",
       "<table border=\"1\" class=\"dataframe\">\n",
       "  <thead>\n",
       "    <tr style=\"text-align: right;\">\n",
       "      <th></th>\n",
       "      <th>clean_text_lemma</th>\n",
       "      <th>text_length_lemma</th>\n",
       "    </tr>\n",
       "  </thead>\n",
       "  <tbody>\n",
       "    <tr>\n",
       "      <th>45353</th>\n",
       "      <td>fabul cooki perfect size love packag stale coo...</td>\n",
       "      <td>18</td>\n",
       "    </tr>\n",
       "    <tr>\n",
       "      <th>47965</th>\n",
       "      <td>boyfriend love stuff sinc live hour drive apar...</td>\n",
       "      <td>33</td>\n",
       "    </tr>\n",
       "    <tr>\n",
       "      <th>561397</th>\n",
       "      <td>mix organ protein powder smoothi add pancak ba...</td>\n",
       "      <td>29</td>\n",
       "    </tr>\n",
       "    <tr>\n",
       "      <th>502256</th>\n",
       "      <td>coffe tast fresh would expect price product re...</td>\n",
       "      <td>12</td>\n",
       "    </tr>\n",
       "    <tr>\n",
       "      <th>63822</th>\n",
       "      <td>one coffe may time day night caffein sensit me...</td>\n",
       "      <td>86</td>\n",
       "    </tr>\n",
       "  </tbody>\n",
       "</table>\n",
       "</div>"
      ],
      "text/plain": [
       "                                         clean_text_lemma  text_length_lemma\n",
       "45353   fabul cooki perfect size love packag stale coo...                 18\n",
       "47965   boyfriend love stuff sinc live hour drive apar...                 33\n",
       "561397  mix organ protein powder smoothi add pancak ba...                 29\n",
       "502256  coffe tast fresh would expect price product re...                 12\n",
       "63822   one coffe may time day night caffein sensit me...                 86"
      ]
     },
     "execution_count": 65,
     "metadata": {},
     "output_type": "execute_result"
    }
   ],
   "source": [
    "temp_df_lemma.columns = ['clean_text_lemma', 'text_length_lemma']\n",
    "\n",
    "temp_df_lemma.head()"
   ]
  },
  {
   "cell_type": "markdown",
   "id": "deae3477",
   "metadata": {},
   "source": [
    "# Concatinating the X_TRAIN:"
   ]
  },
  {
   "cell_type": "code",
   "execution_count": 106,
   "id": "080610a4",
   "metadata": {},
   "outputs": [
    {
     "data": {
      "text/html": [
       "<div>\n",
       "<style scoped>\n",
       "    .dataframe tbody tr th:only-of-type {\n",
       "        vertical-align: middle;\n",
       "    }\n",
       "\n",
       "    .dataframe tbody tr th {\n",
       "        vertical-align: top;\n",
       "    }\n",
       "\n",
       "    .dataframe thead th {\n",
       "        text-align: right;\n",
       "    }\n",
       "</style>\n",
       "<table border=\"1\" class=\"dataframe\">\n",
       "  <thead>\n",
       "    <tr style=\"text-align: right;\">\n",
       "      <th></th>\n",
       "      <th>Review_Summary</th>\n",
       "      <th>Review_Text</th>\n",
       "      <th>clean_text_lemma</th>\n",
       "      <th>text_length_lemma</th>\n",
       "    </tr>\n",
       "  </thead>\n",
       "  <tbody>\n",
       "    <tr>\n",
       "      <th>45353</th>\n",
       "      <td>Yummy</td>\n",
       "      <td>Fabulous cookie.  Perfect size.  Love packagi...</td>\n",
       "      <td>fabul cooki perfect size love packag stale coo...</td>\n",
       "      <td>18</td>\n",
       "    </tr>\n",
       "    <tr>\n",
       "      <th>47965</th>\n",
       "      <td>ZICO is easy to order and tasty to drink</td>\n",
       "      <td>My boyfriend loves this stuff and since we li...</td>\n",
       "      <td>boyfriend love stuff sinc live hour drive apar...</td>\n",
       "      <td>33</td>\n",
       "    </tr>\n",
       "    <tr>\n",
       "      <th>561397</th>\n",
       "      <td>Good for you and great price!</td>\n",
       "      <td>I mix this organic protein powder in my smoot...</td>\n",
       "      <td>mix organ protein powder smoothi add pancak ba...</td>\n",
       "      <td>29</td>\n",
       "    </tr>\n",
       "    <tr>\n",
       "      <th>502256</th>\n",
       "      <td>Coffee just ok</td>\n",
       "      <td>Coffee does not taste as fresh as would have ...</td>\n",
       "      <td>coffe tast fresh would expect price product re...</td>\n",
       "      <td>12</td>\n",
       "    </tr>\n",
       "    <tr>\n",
       "      <th>63822</th>\n",
       "      <td>Enjoyable Lite Coffee</td>\n",
       "      <td>This is the one coffee you may have at any ti...</td>\n",
       "      <td>one coffe may time day night caffein sensit me...</td>\n",
       "      <td>86</td>\n",
       "    </tr>\n",
       "  </tbody>\n",
       "</table>\n",
       "</div>"
      ],
      "text/plain": [
       "                                   Review_Summary  \\\n",
       "45353                                       Yummy   \n",
       "47965    ZICO is easy to order and tasty to drink   \n",
       "561397              Good for you and great price!   \n",
       "502256                             Coffee just ok   \n",
       "63822                       Enjoyable Lite Coffee   \n",
       "\n",
       "                                              Review_Text  \\\n",
       "45353    Fabulous cookie.  Perfect size.  Love packagi...   \n",
       "47965    My boyfriend loves this stuff and since we li...   \n",
       "561397   I mix this organic protein powder in my smoot...   \n",
       "502256   Coffee does not taste as fresh as would have ...   \n",
       "63822    This is the one coffee you may have at any ti...   \n",
       "\n",
       "                                         clean_text_lemma  text_length_lemma  \n",
       "45353   fabul cooki perfect size love packag stale coo...                 18  \n",
       "47965   boyfriend love stuff sinc live hour drive apar...                 33  \n",
       "561397  mix organ protein powder smoothi add pancak ba...                 29  \n",
       "502256  coffe tast fresh would expect price product re...                 12  \n",
       "63822   one coffe may time day night caffein sensit me...                 86  "
      ]
     },
     "execution_count": 106,
     "metadata": {},
     "output_type": "execute_result"
    }
   ],
   "source": [
    "x_train = pd.concat([X_train, temp_df_lemma], axis=1)\n",
    "\n",
    "x_train.head()"
   ]
  },
  {
   "cell_type": "code",
   "execution_count": null,
   "id": "c00cb73d",
   "metadata": {},
   "outputs": [],
   "source": []
  },
  {
   "cell_type": "code",
   "execution_count": null,
   "id": "bf3bb67c",
   "metadata": {},
   "outputs": [],
   "source": []
  },
  {
   "cell_type": "code",
   "execution_count": 67,
   "id": "62801970",
   "metadata": {},
   "outputs": [
    {
     "name": "stdout",
     "output_type": "stream",
     "text": [
      "Requirement already satisfied: wordcloud in c:\\users\\dell\\anaconda3\\anaconda\\lib\\site-packages (1.8.1)\n",
      "Requirement already satisfied: numpy>=1.6.1 in c:\\users\\dell\\anaconda3\\anaconda\\lib\\site-packages (from wordcloud) (1.20.3)\n",
      "Requirement already satisfied: pillow in c:\\users\\dell\\anaconda3\\anaconda\\lib\\site-packages (from wordcloud) (8.4.0)\n",
      "Requirement already satisfied: matplotlib in c:\\users\\dell\\anaconda3\\anaconda\\lib\\site-packages (from wordcloud) (3.4.3)\n",
      "Requirement already satisfied: kiwisolver>=1.0.1 in c:\\users\\dell\\anaconda3\\anaconda\\lib\\site-packages (from matplotlib->wordcloud) (1.3.1)\n",
      "Requirement already satisfied: cycler>=0.10 in c:\\users\\dell\\anaconda3\\anaconda\\lib\\site-packages (from matplotlib->wordcloud) (0.10.0)\n",
      "Requirement already satisfied: python-dateutil>=2.7 in c:\\users\\dell\\anaconda3\\anaconda\\lib\\site-packages (from matplotlib->wordcloud) (2.8.2)\n",
      "Requirement already satisfied: pyparsing>=2.2.1 in c:\\users\\dell\\anaconda3\\anaconda\\lib\\site-packages (from matplotlib->wordcloud) (3.0.4)\n",
      "Requirement already satisfied: six in c:\\users\\dell\\anaconda3\\anaconda\\lib\\site-packages (from cycler>=0.10->matplotlib->wordcloud) (1.16.0)\n"
     ]
    }
   ],
   "source": [
    "!pip install wordcloud"
   ]
  },
  {
   "cell_type": "code",
   "execution_count": 68,
   "id": "3d4c2911",
   "metadata": {},
   "outputs": [],
   "source": [
    "from wordcloud import WordCloud"
   ]
  },
  {
   "cell_type": "code",
   "execution_count": 69,
   "id": "6fc5352a",
   "metadata": {},
   "outputs": [
    {
     "data": {
      "text/plain": [
       "45353     positive\n",
       "47965     positive\n",
       "561397    positive\n",
       "502256    negative\n",
       "63822     positive\n",
       "            ...   \n",
       "129110    positive\n",
       "331927    positive\n",
       "56845     positive\n",
       "566940    negative\n",
       "482293    positive\n",
       "Name: sentiment, Length: 454762, dtype: object"
      ]
     },
     "execution_count": 69,
     "metadata": {},
     "output_type": "execute_result"
    }
   ],
   "source": [
    "y_train"
   ]
  },
  {
   "cell_type": "markdown",
   "id": "cade47e0",
   "metadata": {},
   "source": [
    "# here we are using countVectorizer:"
   ]
  },
  {
   "cell_type": "code",
   "execution_count": 107,
   "id": "51abc5e4",
   "metadata": {},
   "outputs": [],
   "source": [
    "from sklearn.feature_extraction.text import CountVectorizer\n",
    "\n",
    "vocab = CountVectorizer()\n",
    "\n",
    "vocab.fit(x_train['clean_text_lemma'])\n",
    "\n",
    "X_train_bow = vocab.transform(x_train['clean_text_lemma'])"
   ]
  },
  {
   "cell_type": "code",
   "execution_count": null,
   "id": "34e9b10f",
   "metadata": {},
   "outputs": [],
   "source": []
  },
  {
   "cell_type": "code",
   "execution_count": 108,
   "id": "c968b397",
   "metadata": {},
   "outputs": [
    {
     "data": {
      "text/plain": [
       "<454762x63953 sparse matrix of type '<class 'numpy.int64'>'\n",
       "\twith 13355429 stored elements in Compressed Sparse Row format>"
      ]
     },
     "execution_count": 108,
     "metadata": {},
     "output_type": "execute_result"
    }
   ],
   "source": [
    "X_train_bow"
   ]
  },
  {
   "cell_type": "code",
   "execution_count": null,
   "id": "17ad3d7c",
   "metadata": {},
   "outputs": [],
   "source": []
  },
  {
   "cell_type": "code",
   "execution_count": 109,
   "id": "46525b4f",
   "metadata": {},
   "outputs": [
    {
     "name": "stdout",
     "output_type": "stream",
     "text": [
      "Total unique words: 63953\n",
      "Type of train features: <class 'scipy.sparse.csr.csr_matrix'>\n",
      "Shape of input data: (454762, 63953)\n"
     ]
    }
   ],
   "source": [
    "print(\"Total unique words:\", len(vocab.vocabulary_))\n",
    "\n",
    "print(\"Type of train features:\", type(X_train_bow))\n",
    "\n",
    "print(\"Shape of input data:\", X_train_bow.shape)"
   ]
  },
  {
   "cell_type": "markdown",
   "id": "b5659d3a",
   "metadata": {},
   "source": [
    "# for test  case:"
   ]
  },
  {
   "cell_type": "code",
   "execution_count": 110,
   "id": "eff5e334",
   "metadata": {},
   "outputs": [
    {
     "data": {
      "text/html": [
       "<div>\n",
       "<style scoped>\n",
       "    .dataframe tbody tr th:only-of-type {\n",
       "        vertical-align: middle;\n",
       "    }\n",
       "\n",
       "    .dataframe tbody tr th {\n",
       "        vertical-align: top;\n",
       "    }\n",
       "\n",
       "    .dataframe thead th {\n",
       "        text-align: right;\n",
       "    }\n",
       "</style>\n",
       "<table border=\"1\" class=\"dataframe\">\n",
       "  <thead>\n",
       "    <tr style=\"text-align: right;\">\n",
       "      <th></th>\n",
       "      <th>Review_Summary</th>\n",
       "      <th>Review_Text</th>\n",
       "    </tr>\n",
       "  </thead>\n",
       "  <tbody>\n",
       "    <tr>\n",
       "      <th>23804</th>\n",
       "      <td>Delicious...</td>\n",
       "      <td>I love PopChip  Products in general.  Having ...</td>\n",
       "    </tr>\n",
       "    <tr>\n",
       "      <th>459651</th>\n",
       "      <td>Good treats</td>\n",
       "      <td>Our puppy loves the ziggies, if we need to ke...</td>\n",
       "    </tr>\n",
       "    <tr>\n",
       "      <th>431516</th>\n",
       "      <td>Yummy Toddler Snack</td>\n",
       "      <td>We bought these when they were on a lightenin...</td>\n",
       "    </tr>\n",
       "    <tr>\n",
       "      <th>562274</th>\n",
       "      <td>A Lime flavored spicey Nut</td>\n",
       "      <td>Lime and Chili seemed a strange combination b...</td>\n",
       "    </tr>\n",
       "    <tr>\n",
       "      <th>399411</th>\n",
       "      <td>Spice World Minced Garlic  48 oz.</td>\n",
       "      <td>Oh My gosh, I love this minced garlic. I can'...</td>\n",
       "    </tr>\n",
       "    <tr>\n",
       "      <th>...</th>\n",
       "      <td>...</td>\n",
       "      <td>...</td>\n",
       "    </tr>\n",
       "    <tr>\n",
       "      <th>227649</th>\n",
       "      <td>My cat wouldn't touch these but my dogs love ...</td>\n",
       "      <td>After reading all of the positive reviews her...</td>\n",
       "    </tr>\n",
       "    <tr>\n",
       "      <th>498012</th>\n",
       "      <td>My three cat's love the Grilled Feast in Gravy</td>\n",
       "      <td>My three cat's will eat nothing but the Grill...</td>\n",
       "    </tr>\n",
       "    <tr>\n",
       "      <th>314539</th>\n",
       "      <td>It's good, the bars are good</td>\n",
       "      <td>It's good, it's pretty good, the wife loves t...</td>\n",
       "    </tr>\n",
       "    <tr>\n",
       "      <th>273640</th>\n",
       "      <td>One of the Best Chocolate Bars</td>\n",
       "      <td>One of the best chocolate bars I have tasted....</td>\n",
       "    </tr>\n",
       "    <tr>\n",
       "      <th>566453</th>\n",
       "      <td>Tastes just as good, but not sure about the h...</td>\n",
       "      <td>So it's made out of cauliflower rather than w...</td>\n",
       "    </tr>\n",
       "  </tbody>\n",
       "</table>\n",
       "<p>113691 rows × 2 columns</p>\n",
       "</div>"
      ],
      "text/plain": [
       "                                           Review_Summary  \\\n",
       "23804                                        Delicious...   \n",
       "459651                                        Good treats   \n",
       "431516                                Yummy Toddler Snack   \n",
       "562274                         A Lime flavored spicey Nut   \n",
       "399411                  Spice World Minced Garlic  48 oz.   \n",
       "...                                                   ...   \n",
       "227649   My cat wouldn't touch these but my dogs love ...   \n",
       "498012     My three cat's love the Grilled Feast in Gravy   \n",
       "314539                       It's good, the bars are good   \n",
       "273640                     One of the Best Chocolate Bars   \n",
       "566453   Tastes just as good, but not sure about the h...   \n",
       "\n",
       "                                              Review_Text  \n",
       "23804    I love PopChip  Products in general.  Having ...  \n",
       "459651   Our puppy loves the ziggies, if we need to ke...  \n",
       "431516   We bought these when they were on a lightenin...  \n",
       "562274   Lime and Chili seemed a strange combination b...  \n",
       "399411   Oh My gosh, I love this minced garlic. I can'...  \n",
       "...                                                   ...  \n",
       "227649   After reading all of the positive reviews her...  \n",
       "498012   My three cat's will eat nothing but the Grill...  \n",
       "314539   It's good, it's pretty good, the wife loves t...  \n",
       "273640   One of the best chocolate bars I have tasted....  \n",
       "566453   So it's made out of cauliflower rather than w...  \n",
       "\n",
       "[113691 rows x 2 columns]"
      ]
     },
     "execution_count": 110,
     "metadata": {},
     "output_type": "execute_result"
    }
   ],
   "source": [
    "X_test"
   ]
  },
  {
   "cell_type": "markdown",
   "id": "9840881c",
   "metadata": {},
   "source": [
    "# we are applying lemmatizing for X_TEST data:"
   ]
  },
  {
   "cell_type": "code",
   "execution_count": 74,
   "id": "89b7e7ff",
   "metadata": {},
   "outputs": [
    {
     "name": "stderr",
     "output_type": "stream",
     "text": [
      "100%|██████████████████████████████████████████████████████████████████████████| 113691/113691 [33:22<00:00, 56.78it/s]\n"
     ]
    },
    {
     "data": {
      "text/html": [
       "<div>\n",
       "<style scoped>\n",
       "    .dataframe tbody tr th:only-of-type {\n",
       "        vertical-align: middle;\n",
       "    }\n",
       "\n",
       "    .dataframe tbody tr th {\n",
       "        vertical-align: top;\n",
       "    }\n",
       "\n",
       "    .dataframe thead th {\n",
       "        text-align: right;\n",
       "    }\n",
       "</style>\n",
       "<table border=\"1\" class=\"dataframe\">\n",
       "  <thead>\n",
       "    <tr style=\"text-align: right;\">\n",
       "      <th></th>\n",
       "      <th>0</th>\n",
       "      <th>1</th>\n",
       "    </tr>\n",
       "  </thead>\n",
       "  <tbody>\n",
       "    <tr>\n",
       "      <th>23804</th>\n",
       "      <td>love popchip product gener sweet potato variet...</td>\n",
       "      <td>19</td>\n",
       "    </tr>\n",
       "    <tr>\n",
       "      <th>459651</th>\n",
       "      <td>puppi love ziggi need keep occupi long period ...</td>\n",
       "      <td>10</td>\n",
       "    </tr>\n",
       "    <tr>\n",
       "      <th>431516</th>\n",
       "      <td>bought lighten deal let yr old toddler tri def...</td>\n",
       "      <td>29</td>\n",
       "    </tr>\n",
       "    <tr>\n",
       "      <th>562274</th>\n",
       "      <td>lime chili seem strang combin lime flavor natu...</td>\n",
       "      <td>49</td>\n",
       "    </tr>\n",
       "    <tr>\n",
       "      <th>399411</th>\n",
       "      <td>oh gosh love minc garlic believ let run thank ...</td>\n",
       "      <td>48</td>\n",
       "    </tr>\n",
       "  </tbody>\n",
       "</table>\n",
       "</div>"
      ],
      "text/plain": [
       "                                                        0   1\n",
       "23804   love popchip product gener sweet potato variet...  19\n",
       "459651  puppi love ziggi need keep occupi long period ...  10\n",
       "431516  bought lighten deal let yr old toddler tri def...  29\n",
       "562274  lime chili seem strang combin lime flavor natu...  49\n",
       "399411  oh gosh love minc garlic believ let run thank ...  48"
      ]
     },
     "execution_count": 74,
     "metadata": {},
     "output_type": "execute_result"
    }
   ],
   "source": [
    "test_temp_df = X_test['Review_Text'].progress_apply(lambda x: preprocess(x, 'lemma'))\n",
    "\n",
    "test_temp_df.head()"
   ]
  },
  {
   "cell_type": "code",
   "execution_count": null,
   "id": "af632c03",
   "metadata": {},
   "outputs": [],
   "source": []
  },
  {
   "cell_type": "code",
   "execution_count": 111,
   "id": "ebfadfd5",
   "metadata": {},
   "outputs": [
    {
     "data": {
      "text/html": [
       "<div>\n",
       "<style scoped>\n",
       "    .dataframe tbody tr th:only-of-type {\n",
       "        vertical-align: middle;\n",
       "    }\n",
       "\n",
       "    .dataframe tbody tr th {\n",
       "        vertical-align: top;\n",
       "    }\n",
       "\n",
       "    .dataframe thead th {\n",
       "        text-align: right;\n",
       "    }\n",
       "</style>\n",
       "<table border=\"1\" class=\"dataframe\">\n",
       "  <thead>\n",
       "    <tr style=\"text-align: right;\">\n",
       "      <th></th>\n",
       "      <th>clean_text_lemma</th>\n",
       "      <th>text_length_lemma</th>\n",
       "    </tr>\n",
       "  </thead>\n",
       "  <tbody>\n",
       "    <tr>\n",
       "      <th>23804</th>\n",
       "      <td>love popchip product gener sweet potato variet...</td>\n",
       "      <td>19</td>\n",
       "    </tr>\n",
       "    <tr>\n",
       "      <th>459651</th>\n",
       "      <td>puppi love ziggi need keep occupi long period ...</td>\n",
       "      <td>10</td>\n",
       "    </tr>\n",
       "    <tr>\n",
       "      <th>431516</th>\n",
       "      <td>bought lighten deal let yr old toddler tri def...</td>\n",
       "      <td>29</td>\n",
       "    </tr>\n",
       "    <tr>\n",
       "      <th>562274</th>\n",
       "      <td>lime chili seem strang combin lime flavor natu...</td>\n",
       "      <td>49</td>\n",
       "    </tr>\n",
       "    <tr>\n",
       "      <th>399411</th>\n",
       "      <td>oh gosh love minc garlic believ let run thank ...</td>\n",
       "      <td>48</td>\n",
       "    </tr>\n",
       "  </tbody>\n",
       "</table>\n",
       "</div>"
      ],
      "text/plain": [
       "                                         clean_text_lemma  text_length_lemma\n",
       "23804   love popchip product gener sweet potato variet...                 19\n",
       "459651  puppi love ziggi need keep occupi long period ...                 10\n",
       "431516  bought lighten deal let yr old toddler tri def...                 29\n",
       "562274  lime chili seem strang combin lime flavor natu...                 49\n",
       "399411  oh gosh love minc garlic believ let run thank ...                 48"
      ]
     },
     "execution_count": 111,
     "metadata": {},
     "output_type": "execute_result"
    }
   ],
   "source": [
    "test_temp_df.columns = ['clean_text_lemma', 'text_length_lemma']\n",
    "\n",
    "test_temp_df.head()"
   ]
  },
  {
   "cell_type": "code",
   "execution_count": null,
   "id": "938db887",
   "metadata": {},
   "outputs": [],
   "source": []
  },
  {
   "cell_type": "code",
   "execution_count": 112,
   "id": "c3b74a4f",
   "metadata": {},
   "outputs": [
    {
     "data": {
      "text/html": [
       "<div>\n",
       "<style scoped>\n",
       "    .dataframe tbody tr th:only-of-type {\n",
       "        vertical-align: middle;\n",
       "    }\n",
       "\n",
       "    .dataframe tbody tr th {\n",
       "        vertical-align: top;\n",
       "    }\n",
       "\n",
       "    .dataframe thead th {\n",
       "        text-align: right;\n",
       "    }\n",
       "</style>\n",
       "<table border=\"1\" class=\"dataframe\">\n",
       "  <thead>\n",
       "    <tr style=\"text-align: right;\">\n",
       "      <th></th>\n",
       "      <th>Review_Summary</th>\n",
       "      <th>Review_Text</th>\n",
       "      <th>clean_text_lemma</th>\n",
       "      <th>text_length_lemma</th>\n",
       "    </tr>\n",
       "  </thead>\n",
       "  <tbody>\n",
       "    <tr>\n",
       "      <th>23804</th>\n",
       "      <td>Delicious...</td>\n",
       "      <td>I love PopChip  Products in general.  Having ...</td>\n",
       "      <td>love popchip product gener sweet potato variet...</td>\n",
       "      <td>19</td>\n",
       "    </tr>\n",
       "    <tr>\n",
       "      <th>459651</th>\n",
       "      <td>Good treats</td>\n",
       "      <td>Our puppy loves the ziggies, if we need to ke...</td>\n",
       "      <td>puppi love ziggi need keep occupi long period ...</td>\n",
       "      <td>10</td>\n",
       "    </tr>\n",
       "    <tr>\n",
       "      <th>431516</th>\n",
       "      <td>Yummy Toddler Snack</td>\n",
       "      <td>We bought these when they were on a lightenin...</td>\n",
       "      <td>bought lighten deal let yr old toddler tri def...</td>\n",
       "      <td>29</td>\n",
       "    </tr>\n",
       "    <tr>\n",
       "      <th>562274</th>\n",
       "      <td>A Lime flavored spicey Nut</td>\n",
       "      <td>Lime and Chili seemed a strange combination b...</td>\n",
       "      <td>lime chili seem strang combin lime flavor natu...</td>\n",
       "      <td>49</td>\n",
       "    </tr>\n",
       "    <tr>\n",
       "      <th>399411</th>\n",
       "      <td>Spice World Minced Garlic  48 oz.</td>\n",
       "      <td>Oh My gosh, I love this minced garlic. I can'...</td>\n",
       "      <td>oh gosh love minc garlic believ let run thank ...</td>\n",
       "      <td>48</td>\n",
       "    </tr>\n",
       "  </tbody>\n",
       "</table>\n",
       "</div>"
      ],
      "text/plain": [
       "                            Review_Summary  \\\n",
       "23804                         Delicious...   \n",
       "459651                         Good treats   \n",
       "431516                 Yummy Toddler Snack   \n",
       "562274          A Lime flavored spicey Nut   \n",
       "399411   Spice World Minced Garlic  48 oz.   \n",
       "\n",
       "                                              Review_Text  \\\n",
       "23804    I love PopChip  Products in general.  Having ...   \n",
       "459651   Our puppy loves the ziggies, if we need to ke...   \n",
       "431516   We bought these when they were on a lightenin...   \n",
       "562274   Lime and Chili seemed a strange combination b...   \n",
       "399411   Oh My gosh, I love this minced garlic. I can'...   \n",
       "\n",
       "                                         clean_text_lemma  text_length_lemma  \n",
       "23804   love popchip product gener sweet potato variet...                 19  \n",
       "459651  puppi love ziggi need keep occupi long period ...                 10  \n",
       "431516  bought lighten deal let yr old toddler tri def...                 29  \n",
       "562274  lime chili seem strang combin lime flavor natu...                 49  \n",
       "399411  oh gosh love minc garlic believ let run thank ...                 48  "
      ]
     },
     "execution_count": 112,
     "metadata": {},
     "output_type": "execute_result"
    }
   ],
   "source": [
    "x_test = pd.concat([X_test, test_temp_df], axis=1)\n",
    "\n",
    "x_test.head()"
   ]
  },
  {
   "cell_type": "code",
   "execution_count": null,
   "id": "59ec5f77",
   "metadata": {},
   "outputs": [],
   "source": []
  },
  {
   "cell_type": "code",
   "execution_count": 113,
   "id": "097c6ee9",
   "metadata": {},
   "outputs": [],
   "source": [
    "X_test_bow = vocab.transform(x_test['clean_text_lemma'])"
   ]
  },
  {
   "cell_type": "code",
   "execution_count": 114,
   "id": "e1ba9491",
   "metadata": {},
   "outputs": [
    {
     "data": {
      "text/plain": [
       "<113691x63953 sparse matrix of type '<class 'numpy.int64'>'\n",
       "\twith 3331707 stored elements in Compressed Sparse Row format>"
      ]
     },
     "execution_count": 114,
     "metadata": {},
     "output_type": "execute_result"
    }
   ],
   "source": [
    "X_test_bow"
   ]
  },
  {
   "cell_type": "markdown",
   "id": "816f80fa",
   "metadata": {},
   "source": [
    "# LOGISTIC REGRESSION:"
   ]
  },
  {
   "cell_type": "code",
   "execution_count": null,
   "id": "823e1c56",
   "metadata": {},
   "outputs": [],
   "source": []
  },
  {
   "cell_type": "code",
   "execution_count": 115,
   "id": "992766cb",
   "metadata": {},
   "outputs": [
    {
     "data": {
      "text/plain": [
       "LogisticRegression()"
      ]
     },
     "execution_count": 115,
     "metadata": {},
     "output_type": "execute_result"
    }
   ],
   "source": [
    "from sklearn.linear_model import LogisticRegression\n",
    "classifier = LogisticRegression()\n",
    "classifier.fit(X_train_bow, y_train)"
   ]
  },
  {
   "cell_type": "code",
   "execution_count": 116,
   "id": "c74aa0da",
   "metadata": {},
   "outputs": [],
   "source": [
    "y_test_pred = classifier.predict(X_test_bow)"
   ]
  },
  {
   "cell_type": "code",
   "execution_count": null,
   "id": "c1a53ad5",
   "metadata": {},
   "outputs": [],
   "source": []
  },
  {
   "cell_type": "code",
   "execution_count": 117,
   "id": "9b28f48b",
   "metadata": {},
   "outputs": [
    {
     "name": "stdout",
     "output_type": "stream",
     "text": [
      "0.8625396909166073\n",
      "              precision    recall  f1-score   support\n",
      "\n",
      "    negative       0.74      0.64      0.69     16311\n",
      "      neutal       0.52      0.20      0.29      8648\n",
      "    positive       0.89      0.97      0.93     88732\n",
      "\n",
      "    accuracy                           0.86    113691\n",
      "   macro avg       0.72      0.60      0.64    113691\n",
      "weighted avg       0.84      0.86      0.85    113691\n",
      "\n"
     ]
    }
   ],
   "source": [
    "from sklearn.metrics import accuracy_score, classification_report\n",
    "\n",
    "print(accuracy_score(y_test, y_test_pred))\n",
    "\n",
    "print(classification_report(y_test, y_test_pred))"
   ]
  },
  {
   "cell_type": "code",
   "execution_count": null,
   "id": "29b0d609",
   "metadata": {},
   "outputs": [],
   "source": []
  },
  {
   "cell_type": "code",
   "execution_count": 118,
   "id": "2a36f763",
   "metadata": {},
   "outputs": [],
   "source": [
    "# logistic regression: 0.8625396909166073\n",
    "#accuracy:86%"
   ]
  },
  {
   "cell_type": "code",
   "execution_count": null,
   "id": "f1d0b8fa",
   "metadata": {},
   "outputs": [],
   "source": []
  },
  {
   "cell_type": "code",
   "execution_count": null,
   "id": "9ab556e6",
   "metadata": {},
   "outputs": [],
   "source": []
  },
  {
   "cell_type": "code",
   "execution_count": null,
   "id": "51047093",
   "metadata": {},
   "outputs": [],
   "source": [
    "#Stemming is the process of reducing a word\n",
    "\n",
    "\n",
    "#Lemmatization generally means to do the things properly with the use of vocabulary and morphological analysis of words. \n",
    "#In this process, the endings of the words are removed to return the base word, which is also known as Lemma.\n",
    "\n",
    "\n",
    "#CountVectorizer tokenizes(tokenization means dividing the sentences in words) the text along with performing very basic preprocessing. \n",
    "#It removes the punctuation marks and converts all the words to lowercase.\n",
    "\n",
    "\n",
    "#bow(bag of words) is nothing but in our data we are having some txt  data format;so we have to convert that txt to numerical(number-format) values we are using BOW."
   ]
  },
  {
   "cell_type": "code",
   "execution_count": null,
   "id": "d3baa537",
   "metadata": {},
   "outputs": [],
   "source": []
  }
 ],
 "metadata": {
  "kernelspec": {
   "display_name": "Python 3 (ipykernel)",
   "language": "python",
   "name": "python3"
  },
  "language_info": {
   "codemirror_mode": {
    "name": "ipython",
    "version": 3
   },
   "file_extension": ".py",
   "mimetype": "text/x-python",
   "name": "python",
   "nbconvert_exporter": "python",
   "pygments_lexer": "ipython3",
   "version": "3.9.7"
  }
 },
 "nbformat": 4,
 "nbformat_minor": 5
}
